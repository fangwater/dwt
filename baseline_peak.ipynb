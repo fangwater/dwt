{
 "cells": [
  {
   "cell_type": "code",
   "execution_count": null,
   "metadata": {},
   "outputs": [],
   "source": [
    "def wavelet_peak_num_pct(srs: pd.Series, wavename: str, nstd_list=[1]):\n",
    "    \"\"\"\n",
    "    使用小波分析将信号分解为趋势和冲击，计算冲击的次数(峰值的个数)\n",
    "    \n",
    "    Returns:\n",
    "    float: 冲击信号中的peaks的个数/信号波中击\n",
    "    \"\"\"\n",
    "    \n",
    "    srs_vals = srs.values\n",
    "    \n",
    "    original_len = len(srs_vals)\n",
    "    srs_vals = srs_vals[~np.isnan(srs_vals)]\n",
    "    nna_len = len(srs_vals)\n",
    "    \n",
    "    if nna_len < int(original_len / 2):\n",
    "        peak_num_pct_list = ['8'] * len(nstd_list)\n",
    "    else:\n",
    "        try:\n",
    "            cA, cD = pywt.dwt(srs_vals, wavename)\n",
    "            # ya = pywt.idwt(cA, None, wavename, 'smooth')  # approximated component\n",
    "            yd = pywt.idwt(None, cD, wavename, 'smooth')  # detailed component\n",
    "            ydstd = np.std(yd)\n",
    "            peak_num_pct_list = []\n",
    "            for num_std in nstd_list:\n",
    "                try:\n",
    "                    peaks_idx = find_peaks(yd, prominence=num_std * ydstd)[0]\n",
    "                    peak_num_pct = str(len(peaks_idx) / nna_len)\n",
    "                    peak_num_pct_list.append(peak_num_pct)\n",
    "                except Exception:\n",
    "                    peak_num_pct = '8'\n",
    "                    peak_num_pct_list.append(peak_num_pct)\n",
    "        except Exception:\n",
    "            peak_num_pct_list = ['8'] * len(nstd_list)\n",
    "    \n",
    "    pnp_str = '_'.join(peak_num_pct_list)\n",
    "    return pnp_str\n"
   ]
  }
 ],
 "metadata": {
  "language_info": {
   "name": "python"
  }
 },
 "nbformat": 4,
 "nbformat_minor": 2
}
