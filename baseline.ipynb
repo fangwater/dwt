{
 "cells": [
  {
   "cell_type": "code",
   "execution_count": 12,
   "metadata": {},
   "outputs": [
    {
     "name": "stderr",
     "output_type": "stream",
     "text": [
      "/home/fanghz/.local/lib/python3.10/site-packages/pywt/_multilevel.py:43: UserWarning: Level value of 3 is too high: all coefficients will experience boundary effects.\n",
      "  warnings.warn(\n"
     ]
    }
   ],
   "source": [
    "import numpy as np\n",
    "import pywt\n",
    "# 输入简单信号\n",
    "simple_signal = np.array([1, 2, 3, 5, 12, 9, 8])\n",
    "\n",
    "# 使用 pywt 进行小波变换\n",
    "coeffs_pywt = pywt.wavedec(simple_signal, 'sym4', level=3)"
   ]
  },
  {
   "cell_type": "code",
   "execution_count": 11,
   "metadata": {},
   "outputs": [
    {
     "data": {
      "text/plain": [
       "[array([ 2.49738197,  2.51247761,  9.55539195, 19.02707174, 12.70808209,\n",
       "        18.19225514, 15.5073395 ]),\n",
       " array([ 3.4919316 , -1.80553055,  2.071571  , -5.28896637, -3.62976121,\n",
       "         2.22453691,  2.93621861]),\n",
       " array([ 0.36849695,  0.19894607, -0.28333915,  1.56632048,  1.33516154,\n",
       "         0.62023604, -3.80582194])]"
      ]
     },
     "execution_count": 11,
     "metadata": {},
     "output_type": "execute_result"
    }
   ],
   "source": [
    "coeffs_pywt"
   ]
  },
  {
   "cell_type": "code",
   "execution_count": 18,
   "metadata": {},
   "outputs": [
    {
     "data": {
      "text/plain": [
       "3.3225635060809515"
      ]
     },
     "execution_count": 18,
     "metadata": {},
     "output_type": "execute_result"
    }
   ],
   "source": [
    "low_pass_dec = pywt.Wavelet(\"db8\").dec_lo\n",
    "sum(low_pass_dec*np.array([2, 1, 1, 2, 3, 5, 12, 9, 8, 8, 9, 12, 5, 3,2,1]))"
   ]
  },
  {
   "cell_type": "code",
   "execution_count": 19,
   "metadata": {},
   "outputs": [
    {
     "data": {
      "text/plain": [
       "[-0.00011747678412476953,\n",
       " 0.0006754494064505693,\n",
       " -0.00039174037337694705,\n",
       " -0.004870352993451574,\n",
       " 0.008746094047405777,\n",
       " 0.013981027917398282,\n",
       " -0.044088253930794755,\n",
       " -0.017369301001807547,\n",
       " 0.12874742662047847,\n",
       " 0.0004724845739132828,\n",
       " -0.2840155429615469,\n",
       " -0.015829105256349306,\n",
       " 0.5853546836542067,\n",
       " 0.6756307362972898,\n",
       " 0.31287159091429995,\n",
       " 0.05441584224310401]"
      ]
     },
     "execution_count": 19,
     "metadata": {},
     "output_type": "execute_result"
    }
   ],
   "source": [
    "low_pass_dec"
   ]
  }
 ],
 "metadata": {
  "kernelspec": {
   "display_name": "Python 3",
   "language": "python",
   "name": "python3"
  },
  "language_info": {
   "codemirror_mode": {
    "name": "ipython",
    "version": 3
   },
   "file_extension": ".py",
   "mimetype": "text/x-python",
   "name": "python",
   "nbconvert_exporter": "python",
   "pygments_lexer": "ipython3",
   "version": "3.10.12"
  }
 },
 "nbformat": 4,
 "nbformat_minor": 2
}
