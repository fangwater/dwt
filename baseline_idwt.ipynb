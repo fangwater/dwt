{
 "cells": [
  {
   "cell_type": "code",
   "execution_count": 3,
   "metadata": {},
   "outputs": [],
   "source": [
    "import numpy as np\n",
    "import pywt\n",
    "simple_signal = np.array([1, 2, 3, 5, 12, 9, 8])\n",
    "coeffs_pywt = pywt.wavedec(simple_signal, 'db8', level=3)"
   ]
  },
  {
   "cell_type": "code",
   "execution_count": 15,
   "metadata": {},
   "outputs": [
    {
     "data": {
      "text/plain": [
       "[0.013456709459118716,\n",
       " -0.002694966880111507,\n",
       " -0.13670658466432914,\n",
       " -0.09350469740093886,\n",
       " 0.47680326579848425,\n",
       " 0.8995061097486484,\n",
       " 0.47680326579848425,\n",
       " -0.09350469740093886,\n",
       " -0.13670658466432914,\n",
       " -0.002694966880111507,\n",
       " 0.013456709459118716,\n",
       " 0.0]"
      ]
     },
     "execution_count": 15,
     "metadata": {},
     "output_type": "execute_result"
    }
   ],
   "source": [
    "import pywt\n",
    "\n",
    "# 定义要查看的小波\n",
    "wavelet = pywt.Wavelet('bior5.5')\n",
    "wavelet.rec_hi"
   ]
  },
  {
   "cell_type": "code",
   "execution_count": 6,
   "metadata": {},
   "outputs": [
    {
     "data": {
      "text/plain": [
       "array([ 0.02212663,  0.053402  ,  0.0374743 , -0.05061264, -0.14780361,\n",
       "       -0.02930767,  0.37198309,  0.21545059, -0.61658983, -0.79137161,\n",
       "       -0.08033511,  0.78634302,  1.32088765,  1.69254534,  1.92077462,\n",
       "        1.47096808])"
      ]
     },
     "execution_count": 6,
     "metadata": {},
     "output_type": "execute_result"
    }
   ],
   "source": [
    "import numpy as np\n",
    "\n",
    "# 上采样：在元素之间插入零\n",
    "def upsample(signal, factor=2):\n",
    "    upsampled = np.zeros(factor * len(signal))\n",
    "    upsampled[::factor] = signal  # 将原始信号放在每隔factor位置\n",
    "    return upsampled\n",
    "\n",
    "# 卷积操作\n",
    "def convolve(signal, filter):\n",
    "    # 在卷积时使用 'same' 模式，确保长度一致\n",
    "    return np.convolve(signal, filter, mode='same')\n",
    "\n",
    "# IDWT实现\n",
    "def idwt(approx_coeffs, detail_coeffs, wavelet_filters):\n",
    "    # 从低频重构滤波器和高频重构滤波器中获取重构滤波器\n",
    "    low_pass_reconstruction, high_pass_reconstruction = wavelet_filters\n",
    "    \n",
    "    current_signal = approx_coeffs  # 初始化为近似系数\n",
    "\n",
    "    # 从最高层开始逐层重构\n",
    "    for detail in detail_coeffs:\n",
    "        # 对近似系数和细节系数进行上采样\n",
    "        upsampled_approx = upsample(current_signal)\n",
    "        upsampled_detail = upsample(detail)\n",
    "\n",
    "        # 分别与低通滤波器和高通滤波器进行卷积\n",
    "        recon_approx = convolve(upsampled_approx, low_pass_reconstruction)\n",
    "        recon_detail = convolve(upsampled_detail, high_pass_reconstruction)\n",
    "\n",
    "        # 将近似和细节部分相加，得到新的重构信号\n",
    "        current_signal = recon_approx[:len(recon_detail)] + recon_detail[:len(recon_approx)]\n",
    "\n",
    "    return current_signal\n",
    "\n",
    "# 使用小波滤波器 'db8' 的重构滤波器\n",
    "# 假设你已经知道了 db8 的重构滤波器\n",
    "low_pass_reconstruction = [\n",
    "    0.0033357252854737716, -0.012580751999015526, -0.006241490213011705, 0.07757149384006515, \n",
    "    -0.03224486958502952, -0.24229488706619015, 0.13842814590110342, 0.7243085284385744, \n",
    "    0.6038292697974729, 0.160102397974125, -0.09351809091712748, -0.065727528333722, \n",
    "    0.02752286553001629, 0.011031867509191737, -0.006262167954438661, -0.0012599933174382161\n",
    "]\n",
    "\n",
    "high_pass_reconstruction = [\n",
    "    -0.0012599933174382161, -0.006262167954438661, 0.011031867509191737, 0.02752286553001629, \n",
    "    -0.065727528333722, -0.09351809091712748, 0.160102397974125, 0.6038292697974729, \n",
    "    0.7243085284385744, 0.13842814590110342, -0.24229488706619015, -0.03224486958502952, \n",
    "    0.07757149384006515, -0.006241490213011705, -0.012580751999015526, 0.0033357252854737716\n",
    "]\n",
    "\n",
    "# 使用 'db8' 的 DWT 分解结果（假设已经有 DWT 结果）\n",
    "coeffs_pywt = [\n",
    "    np.array([15.05807334]),  # Approximation coefficients (Level 3)\n",
    "    np.array([-0.54066397]),  # Detail coefficients (Level 3)\n",
    "    np.array([2.70554282, -1.27790182]),  # Detail coefficients (Level 2)\n",
    "    np.array([-0.25767486, 0.75398363, -0.29917162, -0.06567155])  # Detail coefficients (Level 1)\n",
    "]\n",
    "\n",
    "# IDWT重构\n",
    "reconstructed_signal_manual = idwt(coeffs_pywt[0], coeffs_pywt[1:], (low_pass_reconstruction, high_pass_reconstruction))\n",
    "\n",
    "reconstructed_signal_manual\n"
   ]
  },
  {
   "cell_type": "code",
   "execution_count": 5,
   "metadata": {},
   "outputs": [
    {
     "data": {
      "text/plain": [
       "array([ 1.,  2.,  3.,  5., 12.,  9.,  8.,  8.])"
      ]
     },
     "execution_count": 5,
     "metadata": {},
     "output_type": "execute_result"
    }
   ],
   "source": [
    "import numpy as np\n",
    "import pywt\n",
    "\n",
    "# 定义简单信号\n",
    "simple_signal = np.array([1, 2, 3, 5, 12, 9, 8])\n",
    "\n",
    "# 使用pywt进行DWT分解\n",
    "coeffs_pywt = pywt.wavedec(simple_signal, 'db8', level=3)\n",
    "\n",
    "# 使用pywt进行IDWT重构\n",
    "reconstructed_signal_pywt = pywt.waverec(coeffs_pywt, 'db8')\n",
    "\n",
    "reconstructed_signal_pywt"
   ]
  }
 ],
 "metadata": {
  "kernelspec": {
   "display_name": "Python 3",
   "language": "python",
   "name": "python3"
  },
  "language_info": {
   "codemirror_mode": {
    "name": "ipython",
    "version": 3
   },
   "file_extension": ".py",
   "mimetype": "text/x-python",
   "name": "python",
   "nbconvert_exporter": "python",
   "pygments_lexer": "ipython3",
   "version": "3.10.12"
  }
 },
 "nbformat": 4,
 "nbformat_minor": 2
}
