{
 "cells": [
  {
   "cell_type": "code",
   "execution_count": 30,
   "metadata": {},
   "outputs": [
    {
     "name": "stderr",
     "output_type": "stream",
     "text": [
      "/home/fanghz/.local/lib/python3.10/site-packages/pywt/_multilevel.py:43: UserWarning: Level value of 1 is too high: all coefficients will experience boundary effects.\n",
      "  warnings.warn(\n"
     ]
    },
    {
     "data": {
      "text/plain": [
       "array([ 1.,  2.,  3.,  5., 12.,  9.,  8.,  2.,  4.,  5.])"
      ]
     },
     "execution_count": 30,
     "metadata": {},
     "output_type": "execute_result"
    }
   ],
   "source": [
    "import numpy as np\n",
    "import pywt\n",
    "w_name = 'bior5.5'\n",
    "simple_signal = np.array([1, 2, 3, 5, 12, 9, 8, 2, 4, 5])\n",
    "coeffs_pywt = pywt.wavedec(simple_signal, w_name, level=1)\n",
    "wavelet = pywt.Wavelet(w_name)\n",
    "low_pass_reconstruction = wavelet.rec_lo\n",
    "high_pass_reconstruction = wavelet.rec_hi\n",
    "pywt.waverec(coeffs_pywt,w_name,'smooth')"
   ]
  },
  {
   "cell_type": "code",
   "execution_count": 63,
   "metadata": {},
   "outputs": [
    {
     "name": "stdout",
     "output_type": "stream",
     "text": [
      "[ 1.  2.  3.  5. 12.  9.  8.  2.  4.]\n"
     ]
    }
   ],
   "source": [
    "import numpy as np\n",
    "def custom_convolve(signal, filter):\n",
    "    signal_len = len(signal)\n",
    "    filter_len = len(filter)\n",
    "    output_len = signal_len + filter_len - 1\n",
    "    output = np.zeros(output_len)\n",
    "    for i in range(signal_len):\n",
    "        for j in range(filter_len):\n",
    "            output[i + j] += signal[i] * filter[j]\n",
    "    return output\n",
    "\n",
    "def custom_valid_convolve(a, v):\n",
    "    Na = len(a)\n",
    "    Nv = len(v)\n",
    "    N = Na - Nv + 1  # 'valid' 模式下输出长度\n",
    "    y = np.empty(N)\n",
    "    v_flipped = v[::-1]  # 翻转卷积核\n",
    "\n",
    "    for i in range(N):\n",
    "        y[i] = np.sum(a[i:i+Nv] * v_flipped)\n",
    "    return y\n",
    "\n",
    "# 上采样：在元素之间插入零\n",
    "def upsample(signal, factor=2):\n",
    "    upsampled = np.zeros(factor * len(signal))\n",
    "    upsampled[1::factor] = signal  # 将原始信号放在每隔factor的奇数位置\n",
    "    return upsampled\n",
    "\n",
    "# IDWT实现\n",
    "def idwt(approx_coeffs, detail_coeffs, wavelet_filters):\n",
    "    # 从低频重构滤波器和高频重构滤波器中获取重构滤波器\n",
    "    low_pass_reconstruction, high_pass_reconstruction = wavelet_filters\n",
    "    \n",
    "    current_signal = approx_coeffs  # 初始化为近似系数\n",
    "\n",
    "    # 从最高层开始逐层重构\n",
    "    for detail in detail_coeffs:\n",
    "        # 对近似系数和细节系数进行上采样\n",
    "        upsampled_approx = upsample(current_signal)\n",
    "        upsampled_detail = upsample(detail)\n",
    "\n",
    "        # 分别与低通滤波器和高通滤波器进行卷积\n",
    "        recon_approx = custom_valid_convolve(upsampled_approx, low_pass_reconstruction)\n",
    "        recon_detail = custom_valid_convolve(upsampled_detail, high_pass_reconstruction)\n",
    "        # recon_approx = np.convolve(upsampled_approx, low_pass_reconstruction,\"valid\")\n",
    "        # recon_detail = np.convolve(upsampled_detail, high_pass_reconstruction,\"valid\")\n",
    "\n",
    "        # 将近似和细节部分相加，得到新的重构信号\n",
    "        current_signal = recon_approx + recon_detail\n",
    "\n",
    "    return current_signal\n",
    "\n",
    "# 示例调用\n",
    "# 这里的 coeffs_pywt 和 wavelet_filters 需要根据你的具体情况定义\n",
    "reconstructed_signal_manual = idwt(coeffs_pywt[0], coeffs_pywt[1:], (low_pass_reconstruction, high_pass_reconstruction))\n",
    "print(reconstructed_signal_manual)\n"
   ]
  },
  {
   "cell_type": "code",
   "execution_count": 31,
   "metadata": {},
   "outputs": [],
   "source": [
    "upsampled_approx = upsample(coeffs_pywt[0])\n",
    "upsampled_detail = upsample(coeffs_pywt[1])"
   ]
  },
  {
   "cell_type": "code",
   "execution_count": 32,
   "metadata": {},
   "outputs": [
    {
     "data": {
      "text/plain": [
       "array([ 0.  , 13.31,  0.  ,  4.4 ,  0.  ,  2.24,  0.  ,  3.12,  0.  ,\n",
       "        8.46,  0.  , 13.49,  0.  ,  5.35,  0.  ,  7.22,  0.  ,  5.32,\n",
       "        0.  ,  9.22])"
      ]
     },
     "execution_count": 32,
     "metadata": {},
     "output_type": "execute_result"
    }
   ],
   "source": [
    "upsampled_approx"
   ]
  },
  {
   "cell_type": "code",
   "execution_count": 37,
   "metadata": {},
   "outputs": [
    {
     "data": {
      "text/plain": [
       "1.2531131378327514"
      ]
     },
     "execution_count": 37,
     "metadata": {},
     "output_type": "execute_result"
    }
   ],
   "source": [
    "sum(upsampled_approx[0:12] * low_pass_reconstruction)"
   ]
  },
  {
   "cell_type": "code",
   "execution_count": 49,
   "metadata": {},
   "outputs": [
    {
     "data": {
      "text/plain": [
       "2.6724185065996737"
      ]
     },
     "execution_count": 49,
     "metadata": {},
     "output_type": "execute_result"
    }
   ],
   "source": [
    "sum(np.pad(upsampled_approx,(2,0),\"symmetric\")[0:12]*low_pass_reconstruction)"
   ]
  },
  {
   "cell_type": "code",
   "execution_count": 46,
   "metadata": {},
   "outputs": [
    {
     "data": {
      "text/plain": [
       "array([ 0.  ,  0.18, -0.04, -1.86, -1.24,  5.95, 12.42,  6.24,  3.02,\n",
       "        1.93,  1.  ,  1.  ,  2.  ,  3.  ,  5.  , 12.  ,  9.  ,  8.  ,\n",
       "        2.  ,  4.  ,  5.  ,  4.82,  4.04,  3.86,  9.24,  3.05, -0.42,\n",
       "       -1.24, -0.02,  0.07,  0.  ])"
      ]
     },
     "execution_count": 46,
     "metadata": {},
     "output_type": "execute_result"
    }
   ],
   "source": [
    "custom_convolve(upsampled_approx, low_pass_reconstruction) + custom_convolve(upsampled_detail, high_pass_reconstruction)"
   ]
  },
  {
   "cell_type": "code",
   "execution_count": 47,
   "metadata": {},
   "outputs": [
    {
     "data": {
      "text/plain": [
       "array([ 0.  ,  0.18, -0.04, -1.76, -1.26,  5.77, 11.55,  8.18,  2.49,\n",
       "        1.03,  1.25,  1.16,  1.75,  3.5 ,  6.04,  9.44, 10.82,  6.96,\n",
       "        2.84,  3.66,  5.44,  4.17,  3.23,  6.02,  7.78,  3.77, -0.88,\n",
       "       -1.19, -0.02,  0.12,  0.  ])"
      ]
     },
     "execution_count": 47,
     "metadata": {},
     "output_type": "execute_result"
    }
   ],
   "source": [
    "custom_convolve(upsampled_approx, low_pass_reconstruction)"
   ]
  },
  {
   "cell_type": "code",
   "execution_count": 16,
   "metadata": {},
   "outputs": [
    {
     "data": {
      "text/plain": [
       "array([ 0.  ,  0.01, -0.  ,  0.09, -0.14,  0.13, -1.06,  4.66, -1.72,\n",
       "        4.36, -0.35,  4.6 ,  1.06])"
      ]
     },
     "execution_count": 16,
     "metadata": {},
     "output_type": "execute_result"
    }
   ],
   "source": [
    "reconstructed_signal_manual = idwt(coeffs_pywt[0], coeffs_pywt[1:], (low_pass_reconstruction, high_pass_reconstruction))\n",
    "reconstructed_signal_manual[:len(reconstructed_signal_manual) - len(low_pass_reconstruction) + 2]\n"
   ]
  },
  {
   "cell_type": "code",
   "execution_count": 20,
   "metadata": {},
   "outputs": [
    {
     "data": {
      "text/plain": [
       "array([4.6 , 1.06])"
      ]
     },
     "execution_count": 20,
     "metadata": {},
     "output_type": "execute_result"
    }
   ],
   "source": [
    "coeffs_pywt = [[1,2,3,4,5,6],[5,4,3,2,1,6]]\n",
    "pywt.idwt(coeffs_pywt[0],coeffs_pywt[1],w_name,\"smooth\")"
   ]
  }
 ],
 "metadata": {
  "kernelspec": {
   "display_name": "Python 3",
   "language": "python",
   "name": "python3"
  },
  "language_info": {
   "codemirror_mode": {
    "name": "ipython",
    "version": 3
   },
   "file_extension": ".py",
   "mimetype": "text/x-python",
   "name": "python",
   "nbconvert_exporter": "python",
   "pygments_lexer": "ipython3",
   "version": "3.10.12"
  }
 },
 "nbformat": 4,
 "nbformat_minor": 2
}
