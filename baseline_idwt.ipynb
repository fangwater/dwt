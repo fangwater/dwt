{
 "cells": [
  {
   "cell_type": "code",
   "execution_count": 86,
   "metadata": {},
   "outputs": [
    {
     "name": "stderr",
     "output_type": "stream",
     "text": [
      "/home/fanghz/.local/lib/python3.10/site-packages/pywt/_multilevel.py:43: UserWarning: Level value of 1 is too high: all coefficients will experience boundary effects.\n",
      "  warnings.warn(\n"
     ]
    }
   ],
   "source": [
    "import numpy as np\n",
    "import pywt\n",
    "w_name = 'bior5.5'\n",
    "simple_signal = np.array([1, 2, 3, 5, 12, 9, 8, 2, 4, 5])\n",
    "coeffs_pywt = pywt.wavedec(simple_signal, w_name, level=1)\n",
    "wavelet = pywt.Wavelet(w_name)\n",
    "low_pass_reconstruction = wavelet.rec_lo\n",
    "high_pass_reconstruction = wavelet.rec_hi\n",
    "pywt.waverec(coeffs_pywt,w_name,'smooth')"
   ]
  },
  {
   "cell_type": "code",
   "execution_count": 88,
   "metadata": {},
   "outputs": [],
   "source": [
    "import numpy as np\n",
    "\n",
    "# 自定义卷积函数\n",
    "def custom_convolve(signal, filter):\n",
    "    signal_len = len(signal)\n",
    "    filter_len = len(filter)\n",
    "    output_len = signal_len + filter_len - 1\n",
    "    output = np.zeros(output_len)\n",
    "\n",
    "    for i in range(signal_len):\n",
    "        for j in range(filter_len):\n",
    "            output[i + j] += signal[i] * filter[j]\n",
    "    return output\n",
    "\n",
    "# 上采样：在元素之间插入零\n",
    "def upsample(signal, factor=2):\n",
    "    upsampled = np.zeros(factor * len(signal))\n",
    "    upsampled[1::factor] = signal  # 将原始信号放在每隔factor的奇数位置\n",
    "    return upsampled\n",
    "\n",
    "# IDWT实现\n",
    "def idwt(approx_coeffs, detail_coeffs, wavelet_filters):\n",
    "    # 从低频重构滤波器和高频重构滤波器中获取重构滤波器\n",
    "    low_pass_reconstruction, high_pass_reconstruction = wavelet_filters\n",
    "    \n",
    "    current_signal = approx_coeffs  # 初始化为近似系数\n",
    "\n",
    "    # 从最高层开始逐层重构\n",
    "    for detail in detail_coeffs:\n",
    "        # 对近似系数和细节系数进行上采样\n",
    "        upsampled_approx = upsample(current_signal)\n",
    "        upsampled_detail = upsample(detail)\n",
    "\n",
    "        # 分别与低通滤波器和高通滤波器进行卷积\n",
    "        recon_approx = custom_convolve(upsampled_approx, low_pass_reconstruction)\n",
    "        recon_detail = custom_convolve(upsampled_detail, high_pass_reconstruction)\n",
    "\n",
    "        # 将近似和细节部分相加，得到新的重构信号\n",
    "        current_signal = recon_approx + recon_detail\n",
    "\n",
    "    return current_signal\n",
    "\n",
    "# 示例调用\n",
    "# 这里的 coeffs_pywt 和 wavelet_filters 需要根据你的具体情况定义\n",
    "reconstructed_signal_manual = idwt(coeffs_pywt[0], coeffs_pywt[1:], (low_pass_reconstruction, high_pass_reconstruction))\n",
    "result = reconstructed_signal_manual[:len(reconstructed_signal_manual) - len(low_pass_reconstruction) + 2]\n"
   ]
  },
  {
   "cell_type": "code",
   "execution_count": 79,
   "metadata": {},
   "outputs": [],
   "source": [
    "upsampled_approx = upsample(coeffs_pywt[0])\n",
    "upsampled_detail = upsample(coeffs_pywt[1])"
   ]
  },
  {
   "cell_type": "code",
   "execution_count": 92,
   "metadata": {},
   "outputs": [
    {
     "data": {
      "text/plain": [
       "16"
      ]
     },
     "execution_count": 92,
     "metadata": {},
     "output_type": "execute_result"
    }
   ],
   "source": [
    "len(upsampled_approx)"
   ]
  },
  {
   "cell_type": "code",
   "execution_count": 11,
   "metadata": {},
   "outputs": [],
   "source": [
    "i = 0\n",
    "upsampled_approx = upsample(coeffs_pywt[0])\n",
    "upsampled_detail = upsample(coeffs_pywt[1])"
   ]
  },
  {
   "cell_type": "code",
   "execution_count": 12,
   "metadata": {},
   "outputs": [
    {
     "data": {
      "text/plain": [
       "array([ 0.        ,  0.36849695,  0.        ,  0.19894607,  0.        ,\n",
       "       -0.28333915,  0.        ,  1.75965908,  0.        ,  1.02842582,\n",
       "        0.        ,  3.22661967,  0.        , -0.97189934,  0.        ,\n",
       "        0.00761214])"
      ]
     },
     "execution_count": 12,
     "metadata": {},
     "output_type": "execute_result"
    }
   ],
   "source": [
    "upsampled_detail"
   ]
  },
  {
   "cell_type": "code",
   "execution_count": 20,
   "metadata": {},
   "outputs": [],
   "source": [
    "x = np.array([ 2.46016518,0,0.        ,  2.46016518,  0.        ,  1.55396324,  0.        ,\n",
    "        4.41013011])\n",
    "y = np.array([0.36849695,0, 0.        ,  0.36849695,  0.        ,  0.19894607,  0.        ,\n",
    "       -0.28333915])"
   ]
  },
  {
   "cell_type": "code",
   "execution_count": 21,
   "metadata": {},
   "outputs": [
    {
     "data": {
      "text/plain": [
       "-1.9095503321574456"
      ]
     },
     "execution_count": 21,
     "metadata": {},
     "output_type": "execute_result"
    }
   ],
   "source": [
    "sum(high_pass_reconstruction*x) + sum(low_pass_reconstruction*y)"
   ]
  }
 ],
 "metadata": {
  "kernelspec": {
   "display_name": "Python 3",
   "language": "python",
   "name": "python3"
  },
  "language_info": {
   "codemirror_mode": {
    "name": "ipython",
    "version": 3
   },
   "file_extension": ".py",
   "mimetype": "text/x-python",
   "name": "python",
   "nbconvert_exporter": "python",
   "pygments_lexer": "ipython3",
   "version": "3.10.12"
  }
 },
 "nbformat": 4,
 "nbformat_minor": 2
}
