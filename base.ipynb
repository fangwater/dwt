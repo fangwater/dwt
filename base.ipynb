{
 "cells": [
  {
   "cell_type": "code",
   "execution_count": 1,
   "metadata": {},
   "outputs": [],
   "source": [
    "import numpy as np\n",
    "import pywt\n",
    "import pandas as pd\n"
   ]
  },
  {
   "cell_type": "code",
   "execution_count": 2,
   "metadata": {},
   "outputs": [],
   "source": [
    "def wavelet_snr(srs: pd.Series, wavename: str):\n",
    "    \"\"\"\n",
    "    使用小波分析将信号分解为趋势和冲击，计算冲击和趋势的能量比（信噪比）\n",
    "    \n",
    "    Returns:\n",
    "    float: 冲击强度占趋势强度的比例\n",
    "    \"\"\"\n",
    "    \n",
    "    srs_vals = srs.values\n",
    "    \n",
    "    if np.sum(np.isnan(srs_vals)) > int(len(srs_vals) / 2):\n",
    "        snr = np.nan\n",
    "    else:\n",
    "        srs_vals = srs_vals[~np.isnan(srs_vals)]\n",
    "        try:\n",
    "            cA, cD = pywt.dwt(srs_vals, wavename)\n",
    "            ya = pywt.idwt(cA, None, wavename, 'smooth')  # approximated component\n",
    "            yd = pywt.idwt(None, cD, wavename, 'smooth')  # detailed component\n",
    "            snr = np.std(yd) / np.std(ya)\n",
    "        except Exception:\n",
    "            snr = np.nan\n",
    "    return snr"
   ]
  },
  {
   "cell_type": "code",
   "execution_count": 5,
   "metadata": {},
   "outputs": [],
   "source": [
    "import numpy as np\n",
    "import pandas as pd\n",
    "import pywt\n",
    "import unittest\n",
    "\n",
    "def wavelet_snr(srs: pd.Series, wavename: str):\n",
    "    \"\"\"\n",
    "    使用小波分析将信号分解为趋势和冲击，计算冲击和趋势的能量比（信噪比）\n",
    "    \n",
    "    Returns:\n",
    "    float: 冲击强度占趋势强度的比例\n",
    "    \"\"\"\n",
    "    \n",
    "    srs_vals = srs.values\n",
    "    \n",
    "    if np.sum(np.isnan(srs_vals)) > int(len(srs_vals) / 2):\n",
    "        snr = np.nan\n",
    "    else:\n",
    "        srs_vals = srs_vals[~np.isnan(srs_vals)]\n",
    "        try:\n",
    "            cA, cD = pywt.dwt(srs_vals, wavename)\n",
    "            ya = pywt.idwt(cA, None, wavename, 'smooth')  # approximated component\n",
    "            yd = pywt.idwt(None, cD, wavename, 'smooth')  # detailed component\n",
    "            snr = np.std(yd) / np.std(ya)\n",
    "        except Exception:\n",
    "            snr = np.nan\n",
    "    return snr"
   ]
  },
  {
   "cell_type": "code",
   "execution_count": 6,
   "metadata": {},
   "outputs": [
    {
     "name": "stdout",
     "output_type": "stream",
     "text": [
      "0.029403140937550473\n",
      "0.07186973462667981\n"
     ]
    }
   ],
   "source": [
    "# 测试小波名称\n",
    "wavename = 'bior5.5'\n",
    "signal = pd.Series(np.array([1, 2, 3, 4, 5, 6, 7, 8, 9, 10]))\n",
    "# 计算信噪比\n",
    "snr = wavelet_snr(signal, wavename)\n",
    "print(snr)\n",
    "signal = pd.Series(np.array([np.nan, np.nan, np.nan, 4, 5, 6, np.nan, 8, 9, 10]))\n",
    "snr = wavelet_snr(signal, wavename)\n",
    "print(snr)"
   ]
  },
  {
   "cell_type": "code",
   "execution_count": null,
   "metadata": {},
   "outputs": [],
   "source": [
    "def wavelet_multi_snr(srs: pd.Series, wavename: str, level_list=[1]):\n",
    "    \"\"\"\n",
    "    使用小波分析将信号分解为趋势和冲击，计算冲击和趋势的能量比（信噪比）\n",
    "    level_list必须是从小到大排列\n",
    "    \n",
    "    Returns:\n",
    "    float: 冲击强度占趋势强度的比例\n",
    "    \"\"\"\n",
    "    \n",
    "    srs_vals = srs.values\n",
    "    original_len = len(srs_vals)\n",
    "    srs_vals = srs_vals[~np.isnan(srs_vals)]\n",
    "    nna_len = len(srs_vals)\n",
    "    \n",
    "    max_level = 10\n",
    "    \n",
    "    if nna_len < int(original_len / 2):\n",
    "        snr_list = ['8'] * len(level_list)\n",
    "    else:\n",
    "        coeffs = wavedec(srs_vals, wavename, level=max_level)\n",
    "        snr_list = []\n",
    "        for max_level in level_list:\n",
    "            try:\n",
    "                for k in range(max_level):\n",
    "                    coeffs[max_level - k] = np.zeros_like(coeffs[max_level - k])\n",
    "                denoised_series = waverec(coeffs, wavename)[:nna_len]\n",
    "                noise_series = srs_vals - denoised_series\n",
    "                snr = str(np.std(noise_series) / np.std(denoised_series))\n",
    "            except Exception:\n",
    "                snr = '8'\n",
    "            snr_list.append(snr)\n",
    "    snr_str = '_'.join(snr_list)\n",
    "    return snr_str\n"
   ]
  }
 ],
 "metadata": {
  "kernelspec": {
   "display_name": "Python 3",
   "language": "python",
   "name": "python3"
  },
  "language_info": {
   "codemirror_mode": {
    "name": "ipython",
    "version": 3
   },
   "file_extension": ".py",
   "mimetype": "text/x-python",
   "name": "python",
   "nbconvert_exporter": "python",
   "pygments_lexer": "ipython3",
   "version": "3.10.12"
  }
 },
 "nbformat": 4,
 "nbformat_minor": 2
}
